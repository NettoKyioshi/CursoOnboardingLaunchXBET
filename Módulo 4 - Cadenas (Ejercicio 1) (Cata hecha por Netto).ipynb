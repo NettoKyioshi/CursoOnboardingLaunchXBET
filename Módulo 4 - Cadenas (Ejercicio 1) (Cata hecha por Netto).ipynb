{
 "cells": [
  {
   "cell_type": "markdown",
   "metadata": {},
   "source": [
    "Dividimos el texto"
   ]
  },
  {
   "cell_type": "code",
   "execution_count": 44,
   "metadata": {},
   "outputs": [],
   "source": [
    "Texto = \"\"\"Interesting facts about the Moon. The Moon is Earth's only satellite. There are several interesting facts about the Moon and how it affects life here on Earth. \n",
    "On average, the Moon moves 4cm away from the Earth every year. This yearly drift is not significant enough to cause immediate effects on Earth. The highest daylight temperature of the Moon is 127 C.\"\"\"\n",
    "\n",
    "TextoDividido = Texto.split('. ')\n",
    "\n"
   ]
  },
  {
   "cell_type": "markdown",
   "metadata": {},
   "source": [
    "No era lo que pedia, pero logre encontrar cuantos moon hay en la oracion xd"
   ]
  },
  {
   "cell_type": "code",
   "execution_count": 45,
   "metadata": {},
   "outputs": [
    {
     "data": {
      "text/plain": [
       "28"
      ]
     },
     "execution_count": 45,
     "metadata": {},
     "output_type": "execute_result"
    }
   ],
   "source": [
    "TextoEnMinusculas = Texto.lower()\n",
    "\n",
    "TextoEnMinusculas.find('moon')"
   ]
  },
  {
   "cell_type": "markdown",
   "metadata": {},
   "source": [
    "Buscamos palabras clave y sustituimos C por Celsius"
   ]
  },
  {
   "cell_type": "code",
   "execution_count": 46,
   "metadata": {},
   "outputs": [
    {
     "name": "stdout",
     "output_type": "stream",
     "text": [
      "\n",
      "On average, the Moon moves 4cm away from the Earth every year\n",
      "The highest daylight temperature of the Moon is 127 Celsius.\n"
     ]
    }
   ],
   "source": [
    "PalabrasClave = [\"average\", \"temperature\", \"distance\"]\n",
    "for sentence in TextoDividido: #lo divide en sentencias\n",
    "    for Palabra in PalabrasClave: #lo divide en palabras\n",
    "        if Palabra in sentence: #busca las palabras en las sentencias\n",
    "            print(sentence.replace(' C', ' Celsius')) #este sustituimos C por Celsius\n",
    "            break #uwu, la verdad aca andaba perdido, ya que primero lo busque en raw y queria ver si me imprimia algo, pero no, y despues dividi, eso de poner las palabras clave por separado no se me ocurrio"
   ]
  }
 ],
 "metadata": {
  "interpreter": {
   "hash": "b46a705b7f937391eb1681ce02f8f061712514e987668a575ec6a4f0b1b47434"
  },
  "kernelspec": {
   "display_name": "Python 3.10.2 64-bit",
   "language": "python",
   "name": "python3"
  },
  "language_info": {
   "codemirror_mode": {
    "name": "ipython",
    "version": 3
   },
   "file_extension": ".py",
   "mimetype": "text/x-python",
   "name": "python",
   "nbconvert_exporter": "python",
   "pygments_lexer": "ipython3",
   "version": "3.10.2"
  },
  "orig_nbformat": 4
 },
 "nbformat": 4,
 "nbformat_minor": 2
}
