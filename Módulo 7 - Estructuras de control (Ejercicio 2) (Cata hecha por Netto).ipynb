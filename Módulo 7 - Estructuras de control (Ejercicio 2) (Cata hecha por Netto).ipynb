{
 "cells": [
  {
   "cell_type": "markdown",
   "metadata": {},
   "source": [
    "Lo anterior"
   ]
  },
  {
   "cell_type": "code",
   "execution_count": 5,
   "metadata": {},
   "outputs": [
    {
     "data": {
      "text/plain": [
       "'done'"
      ]
     },
     "execution_count": 5,
     "metadata": {},
     "output_type": "execute_result"
    }
   ],
   "source": [
    "New_Planet = ''\n",
    "Planets = []\n",
    "\n",
    "while New_Planet.lower() != 'done':\n",
    "    New_Planet = input('Agrega un nuevo planeta y escribe \"done\" cuando hayas terminado:')\n",
    "    Planets.append(New_Planet)\n",
    "\n",
    "\n",
    "Planets.pop()"
   ]
  },
  {
   "cell_type": "markdown",
   "metadata": {},
   "source": [
    "Mostrar la lista de los planetas"
   ]
  },
  {
   "cell_type": "code",
   "execution_count": 6,
   "metadata": {},
   "outputs": [
    {
     "name": "stdout",
     "output_type": "stream",
     "text": [
      "mer\n",
      "ven\n",
      "tie\n",
      "mar\n",
      "jup\n",
      "sat\n",
      "ura\n",
      "nep\n"
     ]
    }
   ],
   "source": [
    "for Planet in Planets:\n",
    "    print(Planet)"
   ]
  }
 ],
 "metadata": {
  "interpreter": {
   "hash": "b46a705b7f937391eb1681ce02f8f061712514e987668a575ec6a4f0b1b47434"
  },
  "kernelspec": {
   "display_name": "Python 3.10.2 64-bit",
   "language": "python",
   "name": "python3"
  },
  "language_info": {
   "codemirror_mode": {
    "name": "ipython",
    "version": 3
   },
   "file_extension": ".py",
   "mimetype": "text/x-python",
   "name": "python",
   "nbconvert_exporter": "python",
   "pygments_lexer": "ipython3",
   "version": "3.10.2"
  },
  "orig_nbformat": 4
 },
 "nbformat": 4,
 "nbformat_minor": 2
}
