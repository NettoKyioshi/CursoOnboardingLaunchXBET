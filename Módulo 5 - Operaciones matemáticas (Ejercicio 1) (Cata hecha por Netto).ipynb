{
 "cells": [
  {
   "cell_type": "markdown",
   "metadata": {},
   "source": [
    "Operadores aritméticos en Python"
   ]
  },
  {
   "cell_type": "code",
   "execution_count": 8,
   "metadata": {},
   "outputs": [],
   "source": [
    "Tierra = 149597870 #valores en kilometros\n",
    "Jupiter = 778547200 "
   ]
  },
  {
   "cell_type": "markdown",
   "metadata": {},
   "source": [
    "Distancia entre planetas"
   ]
  },
  {
   "cell_type": "code",
   "execution_count": 10,
   "metadata": {},
   "outputs": [
    {
     "name": "stdout",
     "output_type": "stream",
     "text": [
      "628949330 Km\n",
      "390810874.13143003 millas\n"
     ]
    }
   ],
   "source": [
    "DistanciaEntrePlanetasEnKilometros = Jupiter - Tierra\n",
    "DistanciaEntrePlanetasEnMillas = DistanciaEntrePlanetasEnKilometros * 0.621371 #transforma con una multiplicaion jijiji\n",
    "\n",
    "template = \"\"\"{Kilometros} Km\n",
    "{Millas} millas\"\"\"\n",
    "\n",
    "print(template.format(Kilometros=DistanciaEntrePlanetasEnKilometros, Millas=DistanciaEntrePlanetasEnMillas)) "
   ]
  }
 ],
 "metadata": {
  "interpreter": {
   "hash": "b46a705b7f937391eb1681ce02f8f061712514e987668a575ec6a4f0b1b47434"
  },
  "kernelspec": {
   "display_name": "Python 3.10.2 64-bit",
   "language": "python",
   "name": "python3"
  },
  "language_info": {
   "codemirror_mode": {
    "name": "ipython",
    "version": 3
   },
   "file_extension": ".py",
   "mimetype": "text/x-python",
   "name": "python",
   "nbconvert_exporter": "python",
   "pygments_lexer": "ipython3",
   "version": "3.10.2"
  },
  "orig_nbformat": 4
 },
 "nbformat": 4,
 "nbformat_minor": 2
}
