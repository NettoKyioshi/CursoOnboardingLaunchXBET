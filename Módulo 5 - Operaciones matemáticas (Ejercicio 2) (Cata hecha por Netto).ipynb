{
 "cells": [
  {
   "cell_type": "markdown",
   "metadata": {},
   "source": [
    "# Crear una aplicación para trabajar con números y entrada de usuario\n",
    "Lee los valores"
   ]
  },
  {
   "cell_type": "code",
   "execution_count": 22,
   "metadata": {},
   "outputs": [],
   "source": [
    "PlanetaA = input('Pon la distancia entre el \"Planeta A\" y el sol en KM')\n",
    "PlanetaB = input('Pon la distancia entre el \"Planeta B\" y el sol en KM')"
   ]
  },
  {
   "cell_type": "markdown",
   "metadata": {},
   "source": [
    "Convertir a número"
   ]
  },
  {
   "cell_type": "code",
   "execution_count": 23,
   "metadata": {},
   "outputs": [],
   "source": [
    "PlanetaA = int(PlanetaA) \n",
    "PlanetaB = int(PlanetaB)"
   ]
  },
  {
   "cell_type": "markdown",
   "metadata": {},
   "source": [
    "Realizar el cálculo y convertir a valor absoluto"
   ]
  },
  {
   "cell_type": "code",
   "execution_count": 24,
   "metadata": {},
   "outputs": [
    {
     "name": "stdout",
     "output_type": "stream",
     "text": [
      "1100101\n",
      "683570.858471\n"
     ]
    }
   ],
   "source": [
    "DistanciaEnKilometros = PlanetaA - PlanetaB\n",
    "DistanciaEnMillas = DistanciaEnKilometros * 0.621371\n",
    "print(abs(DistanciaEnKilometros))\n",
    "print(abs(DistanciaEnMillas))"
   ]
  }
 ],
 "metadata": {
  "interpreter": {
   "hash": "b46a705b7f937391eb1681ce02f8f061712514e987668a575ec6a4f0b1b47434"
  },
  "kernelspec": {
   "display_name": "Python 3.10.2 64-bit",
   "language": "python",
   "name": "python3"
  },
  "language_info": {
   "codemirror_mode": {
    "name": "ipython",
    "version": 3
   },
   "file_extension": ".py",
   "mimetype": "text/x-python",
   "name": "python",
   "nbconvert_exporter": "python",
   "pygments_lexer": "ipython3",
   "version": "3.10.2"
  },
  "orig_nbformat": 4
 },
 "nbformat": 4,
 "nbformat_minor": 2
}
