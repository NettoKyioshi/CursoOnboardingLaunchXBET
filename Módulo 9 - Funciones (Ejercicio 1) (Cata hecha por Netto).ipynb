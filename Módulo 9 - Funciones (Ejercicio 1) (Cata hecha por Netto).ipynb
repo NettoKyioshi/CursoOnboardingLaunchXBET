{
 "cells": [
  {
   "cell_type": "markdown",
   "metadata": {},
   "source": [
    "Crear una funcion de 3 tanques"
   ]
  },
  {
   "cell_type": "code",
   "execution_count": 35,
   "metadata": {},
   "outputs": [
    {
     "name": "stdout",
     "output_type": "stream",
     "text": [
      "Fuel Report:\n",
      "    Promedio Total: 53.333333333333336 litros\n",
      "    Tanque de Disel: 123 litros\n",
      "    Tanque de Magna: 23 litros\n",
      "    Tanque de Premium: 14 litros\n",
      "    \n"
     ]
    }
   ],
   "source": [
    "#La verdad no habia entendido esta parte hasta que baje\n",
    "def Promedio(*Valores):\n",
    "    Total = sum(*Valores) #no sabia que se podia sumar con sum, cool\n",
    "    NumeroDeTanques = len(*Valores)\n",
    "    return Total / NumeroDeTanques\n",
    "\n",
    "def Informe(TanqueDeDisel, TanqueDeMagna, TanqueDePremium):\n",
    "    return f\"\"\"Fuel Report:\n",
    "    Promedio Total: {Promedio([TanqueDeDisel, TanqueDeMagna, TanqueDePremium])} litros\n",
    "    Tanque de Disel: {TanqueDeDisel} litros\n",
    "    Tanque de Magna: {TanqueDeMagna} litros\n",
    "    Tanque de Premium: {TanqueDePremium} litros\n",
    "    \"\"\"\n",
    "print(Informe(123, 23, 14))"
   ]
  }
 ],
 "metadata": {
  "interpreter": {
   "hash": "b46a705b7f937391eb1681ce02f8f061712514e987668a575ec6a4f0b1b47434"
  },
  "kernelspec": {
   "display_name": "Python 3.10.2 64-bit",
   "language": "python",
   "name": "python3"
  },
  "language_info": {
   "codemirror_mode": {
    "name": "ipython",
    "version": 3
   },
   "file_extension": ".py",
   "mimetype": "text/x-python",
   "name": "python",
   "nbconvert_exporter": "python",
   "pygments_lexer": "ipython3",
   "version": "3.10.2"
  },
  "orig_nbformat": 4
 },
 "nbformat": 4,
 "nbformat_minor": 2
}
