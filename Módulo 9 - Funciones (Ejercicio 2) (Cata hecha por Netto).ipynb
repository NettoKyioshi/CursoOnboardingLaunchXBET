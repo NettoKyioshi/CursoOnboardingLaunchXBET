{
 "cells": [
  {
   "cell_type": "code",
   "execution_count": 2,
   "metadata": {},
   "outputs": [
    {
     "name": "stdout",
     "output_type": "stream",
     "text": [
      "\n",
      "    Direccion hacia Luna\n",
      "    Tiempo total: 56 minutos\n",
      "    Combustible total: 660000\n",
      "    Principal Tanque tiene 430000 Litros\n",
      "Externo Tanque tiene 230000 Litros\n",
      "\n"
     ]
    }
   ],
   "source": [
    "def Reporte(Destino, *Minutos, **Combustible):\n",
    "    ReportePrincipal = f\"\"\"\n",
    "    Direccion hacia {Destino}\n",
    "    Tiempo total: {sum(Minutos)} minutos\n",
    "    Combustible total: {sum(Combustible.values())}\n",
    "    \"\"\"\n",
    "    for NombreDelTanque, Litros in Combustible.items():\n",
    "        ReportePrincipal += f\"{NombreDelTanque} Tanque tiene {Litros} Litros\\n\"\n",
    "    return ReportePrincipal\n",
    "\n",
    "print(Reporte(\"Luna\", 23, 1, 32, Principal=430000, Externo=230000))"
   ]
  }
 ],
 "metadata": {
  "interpreter": {
   "hash": "b46a705b7f937391eb1681ce02f8f061712514e987668a575ec6a4f0b1b47434"
  },
  "kernelspec": {
   "display_name": "Python 3.10.2 64-bit",
   "language": "python",
   "name": "python3"
  },
  "language_info": {
   "codemirror_mode": {
    "name": "ipython",
    "version": 3
   },
   "file_extension": ".py",
   "mimetype": "text/x-python",
   "name": "python",
   "nbconvert_exporter": "python",
   "pygments_lexer": "ipython3",
   "version": "3.10.2"
  },
  "orig_nbformat": 4
 },
 "nbformat": 4,
 "nbformat_minor": 2
}
