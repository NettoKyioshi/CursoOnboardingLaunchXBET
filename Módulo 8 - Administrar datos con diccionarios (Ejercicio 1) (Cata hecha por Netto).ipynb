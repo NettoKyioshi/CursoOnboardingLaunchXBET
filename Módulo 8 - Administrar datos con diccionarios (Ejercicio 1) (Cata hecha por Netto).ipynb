{
 "cells": [
  {
   "cell_type": "markdown",
   "metadata": {},
   "source": [
    "Crear y modificar un diccionario de Python"
   ]
  },
  {
   "cell_type": "code",
   "execution_count": 25,
   "metadata": {},
   "outputs": [
    {
     "name": "stdout",
     "output_type": "stream",
     "text": [
      "Mars\n",
      "2\n"
     ]
    }
   ],
   "source": [
    "Planet = {\n",
    "     'Name': 'Mars',\n",
    "     'Moons' : 2\n",
    "}\n",
    "\n",
    "print(Planet.get('Name'))\n",
    "print(Planet.get('Moons'))"
   ]
  },
  {
   "cell_type": "markdown",
   "metadata": {},
   "source": [
    "Agregar Circunferencia"
   ]
  },
  {
   "cell_type": "code",
   "execution_count": 26,
   "metadata": {},
   "outputs": [
    {
     "name": "stdout",
     "output_type": "stream",
     "text": [
      "Mars tiene una distancia polar de: 6752\n"
     ]
    }
   ],
   "source": [
    "Planet['Circunferencia (km)'] = {\n",
    "    'Polar': 6752,\n",
    "    'Equatorial': 6792\n",
    "}\n",
    "\n",
    "print(f\"{Planet['Name']} tiene una distancia polar de: {Planet['Circunferencia (km)']['Polar']}\")"
   ]
  }
 ],
 "metadata": {
  "interpreter": {
   "hash": "b46a705b7f937391eb1681ce02f8f061712514e987668a575ec6a4f0b1b47434"
  },
  "kernelspec": {
   "display_name": "Python 3.10.2 64-bit",
   "language": "python",
   "name": "python3"
  },
  "language_info": {
   "codemirror_mode": {
    "name": "ipython",
    "version": 3
   },
   "file_extension": ".py",
   "mimetype": "text/x-python",
   "name": "python",
   "nbconvert_exporter": "python",
   "pygments_lexer": "ipython3",
   "version": "3.10.2"
  },
  "orig_nbformat": 4
 },
 "nbformat": 4,
 "nbformat_minor": 2
}
