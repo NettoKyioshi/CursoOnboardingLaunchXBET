{
 "cells": [
  {
   "cell_type": "markdown",
   "metadata": {},
   "source": [
    "Cálculo de valores"
   ]
  },
  {
   "cell_type": "code",
   "execution_count": 29,
   "metadata": {},
   "outputs": [],
   "source": [
    "planet_moons = {\n",
    "    'mercury': 0,\n",
    "    'venus': 0,\n",
    "    'earth': 1,\n",
    "    'mars': 2,\n",
    "    'jupiter': 79,\n",
    "    'saturn': 82,\n",
    "    'uranus': 27,\n",
    "    'neptune': 14,\n",
    "    'pluto': 5,\n",
    "    'haumea': 2,\n",
    "    'makemake': 1,\n",
    "    'eris': 1\n",
    "}"
   ]
  },
  {
   "cell_type": "markdown",
   "metadata": {},
   "source": [
    "Numero de lunas"
   ]
  },
  {
   "cell_type": "code",
   "execution_count": 30,
   "metadata": {},
   "outputs": [
    {
     "name": "stdout",
     "output_type": "stream",
     "text": [
      "El numero de lunas totales es de: 214\n"
     ]
    }
   ],
   "source": [
    "Lunas = ''\n",
    "Planetas = ''\n",
    "\n",
    "Lunas = planet_moons.values() #con esto sacamos las lunas y las ponemos como un array\n",
    "\n",
    "LunasTotales = 0\n",
    "for Luna in Lunas: #anda metiendo cada valor de las lunas en la variable luna para despues sumarla\n",
    "    LunasTotales = LunasTotales + Luna\n",
    "\n",
    "print('El numero de lunas totales es de:',LunasTotales)"
   ]
  },
  {
   "cell_type": "markdown",
   "metadata": {},
   "source": [
    "Promedio de las lunas por planeta"
   ]
  },
  {
   "cell_type": "code",
   "execution_count": 31,
   "metadata": {},
   "outputs": [
    {
     "name": "stdout",
     "output_type": "stream",
     "text": [
      "El promedio de lunas por planeta es de: 17.833333333333332\n"
     ]
    }
   ],
   "source": [
    "Planetas = len(planet_moons.keys()) #sacamos el numero total de planetas\n",
    "\n",
    "Promedio = LunasTotales / Planetas\n",
    "print('El promedio de lunas por planeta es de:',Promedio)"
   ]
  }
 ],
 "metadata": {
  "interpreter": {
   "hash": "b46a705b7f937391eb1681ce02f8f061712514e987668a575ec6a4f0b1b47434"
  },
  "kernelspec": {
   "display_name": "Python 3.10.2 64-bit",
   "language": "python",
   "name": "python3"
  },
  "language_info": {
   "codemirror_mode": {
    "name": "ipython",
    "version": 3
   },
   "file_extension": ".py",
   "mimetype": "text/x-python",
   "name": "python",
   "nbconvert_exporter": "python",
   "pygments_lexer": "ipython3",
   "version": "3.10.2"
  },
  "orig_nbformat": 4
 },
 "nbformat": 4,
 "nbformat_minor": 2
}
